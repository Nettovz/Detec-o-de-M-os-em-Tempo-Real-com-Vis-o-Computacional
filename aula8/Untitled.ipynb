{
 "cells": [
  {
   "cell_type": "code",
   "execution_count": 4,
   "id": "2681d160-c8f4-4aa0-a61a-69766690aeb5",
   "metadata": {},
   "outputs": [],
   "source": [
    "import cv2"
   ]
  },
  {
   "cell_type": "code",
   "execution_count": null,
   "id": "420f2e67-0cc7-4846-a0a9-b6dc0648f9aa",
   "metadata": {},
   "outputs": [],
   "source": [
    "import cv2\n",
    "\n",
    "# Inicialize a captura de vídeo\n",
    "cap_img = cv2.VideoCapture(0)\n",
    "\n",
    "# Defina o tamanho desejado para a janela da câmera\n",
    "largura_desejada = 640\n",
    "altura_desejada = 480\n",
    "cap_img.set(cv2.CAP_PROP_FRAME_WIDTH, largura_desejada)\n",
    "cap_img.set(cv2.CAP_PROP_FRAME_HEIGHT, altura_desejada)\n",
    "\n",
    "while True:\n",
    "    # Capture frame a frame\n",
    "    ret, frame = cap_img.read()\n",
    "\n",
    "    # Mostre o frame capturado\n",
    "    cv2.imshow('frame', frame)\n",
    "\n",
    "    # Saia do loop quando a tecla 's' for pressionada\n",
    "    if cv2.waitKey(10) & 0xFF == ord('s'):\n",
    "        break\n",
    "\n",
    "# Libere o objeto de captura de vídeo e feche todas as janelas\n",
    "cap_img.release()\n",
    "cv2.destroyAllWindows()\n"
   ]
  },
  {
   "cell_type": "code",
   "execution_count": null,
   "id": "5ccd99d6-f8da-4337-bee6-90431e098989",
   "metadata": {},
   "outputs": [],
   "source": []
  },
  {
   "cell_type": "code",
   "execution_count": null,
   "id": "2d7dbee5-879a-4bda-93ef-0b5b94d4006d",
   "metadata": {},
   "outputs": [],
   "source": []
  }
 ],
 "metadata": {
  "kernelspec": {
   "display_name": "Python 3 (ipykernel)",
   "language": "python",
   "name": "python3"
  },
  "language_info": {
   "codemirror_mode": {
    "name": "ipython",
    "version": 3
   },
   "file_extension": ".py",
   "mimetype": "text/x-python",
   "name": "python",
   "nbconvert_exporter": "python",
   "pygments_lexer": "ipython3",
   "version": "3.11.7"
  }
 },
 "nbformat": 4,
 "nbformat_minor": 5
}
