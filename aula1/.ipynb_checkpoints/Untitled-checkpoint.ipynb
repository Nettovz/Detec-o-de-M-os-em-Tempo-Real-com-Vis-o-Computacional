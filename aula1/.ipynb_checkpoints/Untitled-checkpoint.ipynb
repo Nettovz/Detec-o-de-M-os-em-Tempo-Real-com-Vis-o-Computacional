{
 "cells": [
  {
   "cell_type": "code",
   "execution_count": 1,
   "id": "55931a8f-da0e-464a-a737-b6a25a45676a",
   "metadata": {},
   "outputs": [
    {
     "name": "stdout",
     "output_type": "stream",
     "text": [
      "ola mundo\n"
     ]
    }
   ],
   "source": [
    "print(\"ola mundo\")\n"
   ]
  }
 ],
 "metadata": {
  "kernelspec": {
   "display_name": "Python 3 (ipykernel)",
   "language": "python",
   "name": "python3"
  },
  "language_info": {
   "codemirror_mode": {
    "name": "ipython",
    "version": 3
   },
   "file_extension": ".py",
   "mimetype": "text/x-python",
   "name": "python",
   "nbconvert_exporter": "python",
   "pygments_lexer": "ipython3",
   "version": "3.11.7"
  }
 },
 "nbformat": 4,
 "nbformat_minor": 5
}
