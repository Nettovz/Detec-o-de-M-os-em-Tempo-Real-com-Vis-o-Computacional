{
 "cells": [
  {
   "cell_type": "code",
   "execution_count": 1,
   "id": "168dfbaf-6005-4801-8188-e9b956f7a389",
   "metadata": {},
   "outputs": [],
   "source": [
    "import cv2\n",
    "import mediapipe as mp"
   ]
  },
  {
   "cell_type": "code",
   "execution_count": 2,
   "id": "1090b68c-489b-4d60-8e19-91c291991c83",
   "metadata": {},
   "outputs": [],
   "source": [
    "wCAM, hCam = 840, 336"
   ]
  },
  {
   "cell_type": "code",
   "execution_count": 3,
   "id": "0a004abb-8ba7-48e1-8d24-7a3b5c8cc2f2",
   "metadata": {},
   "outputs": [
    {
     "data": {
      "text/plain": [
       "True"
      ]
     },
     "execution_count": 3,
     "metadata": {},
     "output_type": "execute_result"
    }
   ],
   "source": [
    "video = cv2.VideoCapture(0)\n",
    "video.set(3, wCAM)\n",
    "video.set(4, hCam)"
   ]
  },
  {
   "cell_type": "code",
   "execution_count": 4,
   "id": "3b58287f-bfea-469d-80ab-e22cb5d82b74",
   "metadata": {},
   "outputs": [],
   "source": [
    "hand = mp.solutions.hands\n",
    "Hand = hand.Hands(max_num_hands = 2)\n",
    "mpDraw = mp.solutions.drawing_utils"
   ]
  },
  {
   "cell_type": "code",
   "execution_count": null,
   "id": "7b18aa73-ec4b-4d2f-b2b5-6255b4c5cb4b",
   "metadata": {},
   "outputs": [
    {
     "name": "stderr",
     "output_type": "stream",
     "text": [
      "C:\\Users\\julia\\anaconda3\\Lib\\site-packages\\google\\protobuf\\symbol_database.py:55: UserWarning: SymbolDatabase.GetPrototype() is deprecated. Please use message_factory.GetMessageClass() instead. SymbolDatabase.GetPrototype() will be removed soon.\n",
      "  warnings.warn('SymbolDatabase.GetPrototype() is deprecated. Please '\n"
     ]
    }
   ],
   "source": [
    "while True:\n",
    "    chek, img = video.read()\n",
    "    imgRGB = cv2.cvtColor(img, cv2.COLOR_BGR2RGB)\n",
    "    results = Hand.process(imgRGB)\n",
    "    handsPoints = results.multi_hand_landmarks\n",
    "    h, w, _ = img.shape\n",
    "    pointos = []\n",
    "    if handsPoints:\n",
    "        for points in handsPoints:\n",
    "            mpDraw.draw_landmarks(img, points, hand.HAND_CONNECTIONS)\n",
    "            for id, cord in enumerate(points.landmark):\n",
    "                cx, cy = int(cord.x*w), int(cord.y*h)\n",
    "                cv2.putText(img, str(id), (cx, cy+10), cv2.FONT_HERSHEY_SIMPLEX, 0.5, (255,0,0), 0)\n"
   ]
  },
  {
   "cell_type": "code",
   "execution_count": null,
   "id": "3794d248-ac5c-46cc-83b9-d904d4d7a4f5",
   "metadata": {},
   "outputs": [],
   "source": [
    "  cv2.imshow(\"imagem\", img)\n",
    "    cv2.waitKey(5)"
   ]
  },
  {
   "cell_type": "code",
   "execution_count": null,
   "id": "1193c38d-8d1f-4f25-b181-a98dde6332ec",
   "metadata": {},
   "outputs": [],
   "source": []
  }
 ],
 "metadata": {
  "kernelspec": {
   "display_name": "Python 3 (ipykernel)",
   "language": "python",
   "name": "python3"
  },
  "language_info": {
   "codemirror_mode": {
    "name": "ipython",
    "version": 3
   },
   "file_extension": ".py",
   "mimetype": "text/x-python",
   "name": "python",
   "nbconvert_exporter": "python",
   "pygments_lexer": "ipython3",
   "version": "3.11.7"
  }
 },
 "nbformat": 4,
 "nbformat_minor": 5
}
