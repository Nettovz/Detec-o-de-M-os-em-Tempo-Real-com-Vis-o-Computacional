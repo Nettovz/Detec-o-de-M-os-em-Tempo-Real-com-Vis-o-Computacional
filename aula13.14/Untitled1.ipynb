{
 "cells": [
  {
   "cell_type": "code",
   "execution_count": null,
   "id": "bac558b1-15de-49c3-a214-8f4e2464439c",
   "metadata": {},
   "outputs": [],
   "source": [
    "import cv2\n",
    "import mediapipe as mp\n",
    "\n",
    "wCAM, hCam = 840, 336\n",
    "\n",
    "\n",
    "video = cv2.VideoCapture(0)\n",
    "video.set(3, wCAM)\n",
    "video.set(4, hCam)\n",
    "\n",
    "hand = mp.solutions.hands\n",
    "Hand = hand.Hands(max_num_hands = 2)\n",
    "mpDraw = mp.solutions.drawing_utils\n",
    "\n",
    "while True:\n",
    "    chek,img = video.read()\n",
    "    imgRGB = cv2.cvtColor(img,cv2.COLOR_BGR2RGB)\n",
    "    results = Hand.process(imgRGB)\n",
    "    handspoints = results.multi_hand_landmarks\n",
    "    h, x, _ = img.shape\n",
    "    pontos = []\n",
    "    if handspoints:\n",
    "        for pooins in handspoints:\n",
    "            mpDraw.draw_landmarks(img, points, hand,HAND_CONECTIONS)\n",
    "            for id, cord in enumerate(points.landmarks):\n",
    "                cx, cy = int(cord.x*w), int(cord.y*h)\n",
    "                cv2.putText(img, str(id), (cx, cy+10), cv2.FONT_HERSHEY_SIMPLEX, 0.5, (255,0,0), 0)\n",
    "\n",
    "    cv2.imshow(\"imagem\", img)\n",
    "    cv2.waitKey(5)\n"
   ]
  }
 ],
 "metadata": {
  "kernelspec": {
   "display_name": "Python 3 (ipykernel)",
   "language": "python",
   "name": "python3"
  },
  "language_info": {
   "codemirror_mode": {
    "name": "ipython",
    "version": 3
   },
   "file_extension": ".py",
   "mimetype": "text/x-python",
   "name": "python",
   "nbconvert_exporter": "python",
   "pygments_lexer": "ipython3",
   "version": "3.11.7"
  }
 },
 "nbformat": 4,
 "nbformat_minor": 5
}
