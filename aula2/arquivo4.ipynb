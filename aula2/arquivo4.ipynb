{
 "cells": [
  {
   "cell_type": "code",
   "execution_count": 1,
   "id": "d8c5ece3-1096-428c-b165-2f7ff9253fe6",
   "metadata": {},
   "outputs": [],
   "source": [
    "import numpy as np"
   ]
  },
  {
   "cell_type": "code",
   "execution_count": 2,
   "id": "be6382eb-7fba-4ea1-ba4c-0c14a31f0c8a",
   "metadata": {},
   "outputs": [],
   "source": [
    "np.random.seed(101)\n",
    "vetor = np.random.randint(0,100,10)"
   ]
  },
  {
   "cell_type": "code",
   "execution_count": 3,
   "id": "ce6f7bf3-2b67-4412-b12a-8e7dcc35c72d",
   "metadata": {},
   "outputs": [
    {
     "data": {
      "text/plain": [
       "(10,)"
      ]
     },
     "execution_count": 3,
     "metadata": {},
     "output_type": "execute_result"
    }
   ],
   "source": [
    "vetor.shape"
   ]
  },
  {
   "cell_type": "code",
   "execution_count": 4,
   "id": "133a2d54-5204-4301-8a75-b5c4be001d98",
   "metadata": {},
   "outputs": [
    {
     "data": {
      "text/plain": [
       "array([95, 11, 81, 70, 63, 87, 75,  9, 77, 40])"
      ]
     },
     "execution_count": 4,
     "metadata": {},
     "output_type": "execute_result"
    }
   ],
   "source": [
    "vetor"
   ]
  },
  {
   "cell_type": "code",
   "execution_count": 8,
   "id": "4bd8b4a0-f61f-4cae-b881-4e696111aa43",
   "metadata": {},
   "outputs": [
    {
     "data": {
      "text/plain": [
       "array([[95, 11],\n",
       "       [81, 70],\n",
       "       [63, 87],\n",
       "       [75,  9],\n",
       "       [77, 40]])"
      ]
     },
     "execution_count": 8,
     "metadata": {},
     "output_type": "execute_result"
    }
   ],
   "source": [
    "vetor.reshape(5,2)"
   ]
  },
  {
   "cell_type": "code",
   "execution_count": null,
   "id": "96e9250d-6fec-4a9f-9635-d24fbdbe58ef",
   "metadata": {},
   "outputs": [],
   "source": []
  }
 ],
 "metadata": {
  "kernelspec": {
   "display_name": "Python 3 (ipykernel)",
   "language": "python",
   "name": "python3"
  },
  "language_info": {
   "codemirror_mode": {
    "name": "ipython",
    "version": 3
   },
   "file_extension": ".py",
   "mimetype": "text/x-python",
   "name": "python",
   "nbconvert_exporter": "python",
   "pygments_lexer": "ipython3",
   "version": "3.11.7"
  }
 },
 "nbformat": 4,
 "nbformat_minor": 5
}
