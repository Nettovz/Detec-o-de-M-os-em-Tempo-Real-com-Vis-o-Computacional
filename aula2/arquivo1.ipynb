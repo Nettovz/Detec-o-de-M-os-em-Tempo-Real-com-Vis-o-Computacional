{
 "cells": [
  {
   "cell_type": "code",
   "execution_count": 1,
   "id": "15546725-ce97-4ed6-8f2c-5dc669027325",
   "metadata": {
    "scrolled": true
   },
   "outputs": [
    {
     "data": {
      "text/plain": [
       "list"
      ]
     },
     "execution_count": 1,
     "metadata": {},
     "output_type": "execute_result"
    }
   ],
   "source": [
    "import numpy as np\n",
    "vetor = [1,5,9]\n",
    "type(vetor)\n"
   ]
  },
  {
   "cell_type": "code",
   "execution_count": 2,
   "id": "6f6c5aff-5617-47ce-9987-af856d71309b",
   "metadata": {},
   "outputs": [],
   "source": [
    "meuvetor = np.array(vetor)"
   ]
  },
  {
   "cell_type": "code",
   "execution_count": 3,
   "id": "c78c82a1-a84b-4d56-8ba1-b6d7507579e7",
   "metadata": {},
   "outputs": [
    {
     "data": {
      "text/plain": [
       "array([1, 5, 9])"
      ]
     },
     "execution_count": 3,
     "metadata": {},
     "output_type": "execute_result"
    }
   ],
   "source": [
    "meuvetor\n"
   ]
  },
  {
   "cell_type": "code",
   "execution_count": 4,
   "id": "734b49c0-b4ae-4c0c-a00b-a70ee006ee0b",
   "metadata": {},
   "outputs": [
    {
     "data": {
      "text/plain": [
       "numpy.ndarray"
      ]
     },
     "execution_count": 4,
     "metadata": {},
     "output_type": "execute_result"
    }
   ],
   "source": [
    "type(meuvetor)"
   ]
  },
  {
   "cell_type": "code",
   "execution_count": 7,
   "id": "677e194b-fbd5-4cba-a607-9ccebf3b545a",
   "metadata": {},
   "outputs": [
    {
     "data": {
      "text/plain": [
       "array([ 1,  3,  5,  7,  9, 11, 13, 15, 17, 19])"
      ]
     },
     "execution_count": 7,
     "metadata": {},
     "output_type": "execute_result"
    }
   ],
   "source": [
    "np.arange(1,20,2)"
   ]
  },
  {
   "cell_type": "code",
   "execution_count": 10,
   "id": "842a54f5-bb6d-4b86-a2be-41cd3f7f35ac",
   "metadata": {},
   "outputs": [
    {
     "data": {
      "text/plain": [
       "array([[0., 0., 0.],\n",
       "       [0., 0., 0.],\n",
       "       [0., 0., 0.],\n",
       "       [0., 0., 0.]])"
      ]
     },
     "execution_count": 10,
     "metadata": {},
     "output_type": "execute_result"
    }
   ],
   "source": [
    "np.zeros(shape=(4,3))"
   ]
  },
  {
   "cell_type": "code",
   "execution_count": 13,
   "id": "6e46666b-6f86-4e0f-8694-c882c5955e0a",
   "metadata": {},
   "outputs": [
    {
     "data": {
      "text/plain": [
       "array([[1., 1., 1., 1.],\n",
       "       [1., 1., 1., 1.]])"
      ]
     },
     "execution_count": 13,
     "metadata": {},
     "output_type": "execute_result"
    }
   ],
   "source": [
    "np.ones((2,4))"
   ]
  },
  {
   "cell_type": "code",
   "execution_count": null,
   "id": "806bf981-fdd6-42da-b07b-79778ebb00a1",
   "metadata": {},
   "outputs": [],
   "source": []
  }
 ],
 "metadata": {
  "kernelspec": {
   "display_name": "Python 3 (ipykernel)",
   "language": "python",
   "name": "python3"
  },
  "language_info": {
   "codemirror_mode": {
    "name": "ipython",
    "version": 3
   },
   "file_extension": ".py",
   "mimetype": "text/x-python",
   "name": "python",
   "nbconvert_exporter": "python",
   "pygments_lexer": "ipython3",
   "version": "3.11.7"
  }
 },
 "nbformat": 4,
 "nbformat_minor": 5
}
