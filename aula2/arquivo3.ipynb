{
 "cells": [
  {
   "cell_type": "code",
   "execution_count": 1,
   "id": "88e6ba3f-41ca-483b-8837-deba47bad7ac",
   "metadata": {},
   "outputs": [],
   "source": [
    "import numpy as np"
   ]
  },
  {
   "cell_type": "code",
   "execution_count": 2,
   "id": "138db449-a9ac-4972-9ce6-a92efafb8a02",
   "metadata": {},
   "outputs": [],
   "source": [
    "vetor =  np.random.randint(0,200,10)"
   ]
  },
  {
   "cell_type": "code",
   "execution_count": 3,
   "id": "199c4e08-6370-454b-a2b7-bb0755021324",
   "metadata": {},
   "outputs": [
    {
     "data": {
      "text/plain": [
       "array([110,  99, 137, 190,  49,  60, 170,  53,  88, 144])"
      ]
     },
     "execution_count": 3,
     "metadata": {},
     "output_type": "execute_result"
    }
   ],
   "source": [
    "vetor"
   ]
  },
  {
   "cell_type": "code",
   "execution_count": 4,
   "id": "358a338a-cf01-473f-9a6e-8b5ad9af8a46",
   "metadata": {},
   "outputs": [
    {
     "data": {
      "text/plain": [
       "190"
      ]
     },
     "execution_count": 4,
     "metadata": {},
     "output_type": "execute_result"
    }
   ],
   "source": [
    "vetor.max()"
   ]
  },
  {
   "cell_type": "code",
   "execution_count": 6,
   "id": "7cba20cf-19ec-4041-9322-eb884227f18f",
   "metadata": {},
   "outputs": [
    {
     "data": {
      "text/plain": [
       "3"
      ]
     },
     "execution_count": 6,
     "metadata": {},
     "output_type": "execute_result"
    }
   ],
   "source": [
    "vetor.argmax()"
   ]
  },
  {
   "cell_type": "code",
   "execution_count": 7,
   "id": "25088698-361a-42b1-8e9e-1f568c7c0695",
   "metadata": {},
   "outputs": [
    {
     "data": {
      "text/plain": [
       "49"
      ]
     },
     "execution_count": 7,
     "metadata": {},
     "output_type": "execute_result"
    }
   ],
   "source": [
    "vetor.min()"
   ]
  },
  {
   "cell_type": "code",
   "execution_count": null,
   "id": "72b4b83e-322c-4995-b469-f2aac532811f",
   "metadata": {},
   "outputs": [],
   "source": []
  },
  {
   "cell_type": "code",
   "execution_count": 8,
   "id": "9f6e91ff-73c4-4477-a1bd-5301b179e2f0",
   "metadata": {},
   "outputs": [
    {
     "data": {
      "text/plain": [
       "4"
      ]
     },
     "execution_count": 8,
     "metadata": {},
     "output_type": "execute_result"
    }
   ],
   "source": [
    "vetor.argmin()"
   ]
  },
  {
   "cell_type": "code",
   "execution_count": 9,
   "id": "7151e309-2c42-4541-989d-10c920c3207b",
   "metadata": {},
   "outputs": [
    {
     "data": {
      "text/plain": [
       "110.0"
      ]
     },
     "execution_count": 9,
     "metadata": {},
     "output_type": "execute_result"
    }
   ],
   "source": [
    "vetor.mean()"
   ]
  },
  {
   "cell_type": "code",
   "execution_count": null,
   "id": "49857dc4-0961-438d-bf3b-597506d18155",
   "metadata": {},
   "outputs": [],
   "source": []
  }
 ],
 "metadata": {
  "kernelspec": {
   "display_name": "Python 3 (ipykernel)",
   "language": "python",
   "name": "python3"
  },
  "language_info": {
   "codemirror_mode": {
    "name": "ipython",
    "version": 3
   },
   "file_extension": ".py",
   "mimetype": "text/x-python",
   "name": "python",
   "nbconvert_exporter": "python",
   "pygments_lexer": "ipython3",
   "version": "3.11.7"
  }
 },
 "nbformat": 4,
 "nbformat_minor": 5
}
