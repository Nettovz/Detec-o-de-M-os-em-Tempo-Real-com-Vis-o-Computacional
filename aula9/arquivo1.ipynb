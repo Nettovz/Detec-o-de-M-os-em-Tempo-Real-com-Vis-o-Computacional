{
 "cells": [
  {
   "cell_type": "code",
   "execution_count": null,
   "id": "72016f2a-7409-4890-928c-a3add9e45e58",
   "metadata": {},
   "outputs": [],
   "source": [
    "import cv2\n",
    "\n",
    "video = cv.VideoCapture('videogravado.avi')\n",
    "\n",
    "if video.is0pened() == False:\n",
    "    print('Erro ao abrir o video')\n",
    "\n",
    "while video.is0pened()\n",
    "   ret, frame = video.read()\n",
    "\n",
    "   if ret == True\n",
    "     cv2.imshow('frame', frame)\n",
    "      if cv2.waitKey(5) & 0xFF == ord('s')\n",
    "       break\n",
    "   else\n",
    "    break\n",
    "\n",
    "video.release()\n",
    "cv2.destroyAllWindows()"
   ]
  }
 ],
 "metadata": {
  "kernelspec": {
   "display_name": "Python 3 (ipykernel)",
   "language": "python",
   "name": "python3"
  },
  "language_info": {
   "codemirror_mode": {
    "name": "ipython",
    "version": 3
   },
   "file_extension": ".py",
   "mimetype": "text/x-python",
   "name": "python",
   "nbconvert_exporter": "python",
   "pygments_lexer": "ipython3",
   "version": "3.11.7"
  }
 },
 "nbformat": 4,
 "nbformat_minor": 5
}
