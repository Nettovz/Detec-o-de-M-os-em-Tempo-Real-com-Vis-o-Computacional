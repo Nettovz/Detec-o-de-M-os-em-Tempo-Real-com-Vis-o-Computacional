{
 "cells": [
  {
   "cell_type": "code",
   "execution_count": 1,
   "id": "9c0368d7-52ef-4323-9ab0-2c183d2b75a0",
   "metadata": {},
   "outputs": [],
   "source": [
    "import numpy as np\n",
    "import cv2"
   ]
  },
  {
   "cell_type": "code",
   "execution_count": 4,
   "id": "abc89392-d19b-43de-90b7-ded7c95b0dc2",
   "metadata": {},
   "outputs": [],
   "source": [
    "def circulo(event, x, y, flag, param):\n",
    "    if event == cv2.EVENT_LBUTTONDOWN:\n",
    "      cv2.circle(img, (x,y), 100, (0,255,255), 10)\n",
    "      cv2.rectangle(img, pt1 = (x,x), pt2 = (y,y), color = (255,0,0), thickness = 10) \n",
    "cv2.namedWindow(winname = 'minha_img')\n",
    "\n",
    "cv2.setMouseCallback('minha_img', circulo)\n",
    "\n",
    "img = np.zeros((1024,1024,3))\n",
    "\n",
    "while True:\n",
    "    \n",
    "    cv2.imshow('minha_img', img)\n",
    "    \n",
    "    if cv2.waitKey(20) & 0xFF == 27:\n",
    "     break\n",
    "\n",
    "cv2.destroyAllWindows()"
   ]
  },
  {
   "cell_type": "code",
   "execution_count": null,
   "id": "203829b5-7282-4bde-9ec5-7ef5356f4e0d",
   "metadata": {},
   "outputs": [],
   "source": []
  },
  {
   "cell_type": "code",
   "execution_count": null,
   "id": "8f4fb611-0980-4d67-99af-28b468e8ffdb",
   "metadata": {},
   "outputs": [],
   "source": []
  }
 ],
 "metadata": {
  "kernelspec": {
   "display_name": "Python 3 (ipykernel)",
   "language": "python",
   "name": "python3"
  },
  "language_info": {
   "codemirror_mode": {
    "name": "ipython",
    "version": 3
   },
   "file_extension": ".py",
   "mimetype": "text/x-python",
   "name": "python",
   "nbconvert_exporter": "python",
   "pygments_lexer": "ipython3",
   "version": "3.11.7"
  }
 },
 "nbformat": 4,
 "nbformat_minor": 5
}
