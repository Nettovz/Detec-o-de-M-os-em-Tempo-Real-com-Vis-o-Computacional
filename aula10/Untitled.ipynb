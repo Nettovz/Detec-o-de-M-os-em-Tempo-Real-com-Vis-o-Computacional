{
 "cells": [
  {
   "cell_type": "code",
   "execution_count": null,
   "id": "ba2d617e-9116-42b6-8452-2d8d0d374d04",
   "metadata": {},
   "outputs": [],
   "source": [
    "import cv2\n",
    "\n",
    "# Criar função do círculo\n",
    "def desenha_circulo(event, x, y, flags, param):\n",
    "    global centro, clique\n",
    "\n",
    "    # Condicionais que irão verificar o clique do mouse\n",
    "    if event == cv2.EVENT_LBUTTONDOWN:\n",
    "        centro = (x, y)\n",
    "        clique = False\n",
    "    elif event == cv2.EVENT_LBUTTONUP:\n",
    "        clique = True\n",
    "\n",
    "# Atribuição de valores\n",
    "centro = (0, 0)\n",
    "clique = False\n",
    "\n",
    "# Captura do vídeo\n",
    "cap = cv2.VideoCapture(0)\n",
    "\n",
    "# Criar uma janela para o vídeo\n",
    "cv2.namedWindow('janela')  # Correção: cv2.nameWindow -> cv2.namedWindow\n",
    "\n",
    "# Juntar a janela à função desenha_circulo\n",
    "cv2.setMouseCallback('janela', desenha_circulo)\n",
    "\n",
    "while True:\n",
    "    # Capturar frame a frame\n",
    "    ret, frame = cap.read()\n",
    "\n",
    "    # Verificar se algo já foi clicado\n",
    "    if clique:\n",
    "        # Desenhar o círculo\n",
    "        cv2.circle(frame, center=centro, radius=80, color=(0, 255, 0), thickness=10)\n",
    "\n",
    "    # Apresentar o frame resultante\n",
    "    cv2.imshow('janela', frame)\n",
    "\n",
    "    # Comando de saída\n",
    "    if cv2.waitKey(1) & 0xFF == ord('s'):\n",
    "        break\n",
    "\n",
    "cap.release()\n",
    "cv2.destroyAllWindows()\n"
   ]
  },
  {
   "cell_type": "code",
   "execution_count": null,
   "id": "164a4578-330c-468c-81dc-03fa0d0db90b",
   "metadata": {},
   "outputs": [],
   "source": []
  }
 ],
 "metadata": {
  "kernelspec": {
   "display_name": "Python 3 (ipykernel)",
   "language": "python",
   "name": "python3"
  },
  "language_info": {
   "codemirror_mode": {
    "name": "ipython",
    "version": 3
   },
   "file_extension": ".py",
   "mimetype": "text/x-python",
   "name": "python",
   "nbconvert_exporter": "python",
   "pygments_lexer": "ipython3",
   "version": "3.11.7"
  }
 },
 "nbformat": 4,
 "nbformat_minor": 5
}
